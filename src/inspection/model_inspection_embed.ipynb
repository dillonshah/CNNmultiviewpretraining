{
 "cells": [
  {
   "cell_type": "code",
   "execution_count": null,
   "metadata": {},
   "outputs": [],
   "source": [
    "import os\n",
    "import numpy as np\n",
    "import pandas as pd\n",
    "import seaborn as sns\n",
    "from sklearn import decomposition\n",
    "from sklearn.manifold import TSNE"
   ]
  },
  {
   "cell_type": "code",
   "execution_count": null,
   "metadata": {},
   "outputs": [],
   "source": [
    "df = pd.read_csv('data/embed-non-negative.csv')\n",
    "df['image_id'] = [img_path.split('/')[-1] for img_path in df.image_path.values]"
   ]
  },
  {
   "cell_type": "code",
   "execution_count": null,
   "metadata": {},
   "outputs": [],
   "source": [
    "density = False\n",
    "pretrained = False\n",
    "percentage = 1.0"
   ]
  },
  {
   "cell_type": "code",
   "execution_count": null,
   "metadata": {},
   "outputs": [],
   "source": [
    "output_base = 'images'\n",
    "output_type1 = 'density' if density else 'malignancy'\n",
    "output_type2 = 'pretrained' if pretrained else 'supervised'\n",
    "output_type3 = str(percentage)\n",
    "output_dir = os.path.join(output_base, output_type1, output_type2, output_type3)\n",
    "if not os.path.exists(output_dir):\n",
    "    os.makedirs(output_dir)"
   ]
  },
  {
   "cell_type": "code",
   "execution_count": null,
   "metadata": {},
   "outputs": [],
   "source": [
    "num_features = 512\n",
    "prd_path = f\"../classification/\\\n",
    "{'density' if density else 'malignancy'}_{'pretrained' if pretrained else 'supervised'}/output/resnet18_{percentage}\"\n",
    "df_prd = pd.read_csv(os.path.join(prd_path, 'predictions.csv'))\n",
    "df_emb = pd.read_csv(os.path.join(prd_path, 'embeddings.csv'))"
   ]
  },
  {
   "cell_type": "code",
   "execution_count": null,
   "metadata": {},
   "outputs": [],
   "source": [
    "df = pd.merge(pd.concat([df_emb, df_prd], axis=1), df, how='inner', on=['image_id'])"
   ]
  },
  {
   "cell_type": "code",
   "execution_count": null,
   "metadata": {},
   "outputs": [],
   "source": [
    "df['is_screen'] = False\n",
    "df.loc[df.desc.str.contains(\"screen\", case=False), 'is_screen'] = True"
   ]
  },
  {
   "cell_type": "code",
   "execution_count": null,
   "metadata": {},
   "outputs": [],
   "source": [
    "df.head()"
   ]
  },
  {
   "cell_type": "code",
   "execution_count": null,
   "metadata": {},
   "outputs": [],
   "source": [
    "embeddings = np.array(df.iloc[:,0:num_features])"
   ]
  },
  {
   "cell_type": "code",
   "execution_count": null,
   "metadata": {},
   "outputs": [],
   "source": [
    "pca = decomposition.PCA(n_components=0.95, whiten=False)\n",
    "embeddings_pca = pca.fit_transform(embeddings)\n",
    "\n",
    "print(embeddings_pca.shape)"
   ]
  },
  {
   "cell_type": "code",
   "execution_count": null,
   "metadata": {},
   "outputs": [],
   "source": [
    "df['PCA 1'] = embeddings_pca[:,0]\n",
    "df['PCA 2'] = embeddings_pca[:,1]"
   ]
  },
  {
   "cell_type": "code",
   "execution_count": null,
   "metadata": {},
   "outputs": [],
   "source": [
    "tsne = TSNE(n_components=2, learning_rate='auto')\n",
    "embeddings_tsne = tsne.fit_transform(embeddings_pca)\n",
    "\n",
    "print(embeddings_tsne.shape)"
   ]
  },
  {
   "cell_type": "code",
   "execution_count": null,
   "metadata": {},
   "outputs": [],
   "source": [
    "df['t-SNE 1'] = embeddings_tsne[:,0]\n",
    "df['t-SNE 2'] = embeddings_tsne[:,1]"
   ]
  },
  {
   "cell_type": "code",
   "execution_count": null,
   "metadata": {},
   "outputs": [],
   "source": [
    "df = df.sample(frac=1.0)"
   ]
  },
  {
   "cell_type": "code",
   "execution_count": null,
   "metadata": {},
   "outputs": [],
   "source": [
    "alpha = 0.6\n",
    "style = '.'\n",
    "markersize = 20\n",
    "color_palette = 'tab10'\n",
    "kind = 'scatter'"
   ]
  },
  {
   "cell_type": "code",
   "execution_count": null,
   "metadata": {},
   "outputs": [],
   "source": [
    "# x = 'PCA 1'\n",
    "# y = 'PCA 2'\n",
    "x = 't-SNE 1'\n",
    "y = 't-SNE 2'"
   ]
  },
  {
   "cell_type": "code",
   "execution_count": null,
   "metadata": {},
   "outputs": [],
   "source": [
    "def plot_scatter(data, hue, x, y, palette):\n",
    "    hue_order = list(data[hue].unique())\n",
    "    hue_order.sort()\n",
    "    sns.set_theme(style=\"white\")\n",
    "    ax = sns.scatterplot(data=data, x=x, y=y, hue=hue, hue_order=hue_order, alpha=alpha, marker=style, s=markersize, palette=palette)\n",
    "    sns.move_legend(ax, \"upper left\", bbox_to_anchor=(1, 1))\n",
    "\n",
    "def plot_joint(data, hue, x, y, palette):\n",
    "    hue_order = list(data[hue].unique())\n",
    "    hue_order.sort()\n",
    "    sns.set_theme(style=\"white\")\n",
    "    ax = sns.jointplot(data=data, x=x, y=y, hue=hue, hue_order=hue_order, alpha=alpha, marker=style, s=markersize, palette=palette, marginal_kws={'common_norm': False})\n",
    "    sns.move_legend(ax.ax_joint, \"upper left\", bbox_to_anchor=(1.2, 1))\n",
    "    ax.fig.savefig(f\"{output_dir}/{hue}\")"
   ]
  },
  {
   "cell_type": "code",
   "execution_count": null,
   "metadata": {},
   "outputs": [],
   "source": [
    "# attribute = 'is_screen'\n",
    "\n",
    "# print(df[attribute].value_counts(normalize=False))\n",
    "# print('')\n",
    "# print(df[attribute].value_counts(normalize=True))\n",
    "\n",
    "# plot_joint(df, attribute, x, y, color_palette)"
   ]
  },
  {
   "cell_type": "code",
   "execution_count": null,
   "metadata": {},
   "outputs": [],
   "source": [
    "attribute = 'ViewPosition'\n",
    "\n",
    "print(df[attribute].value_counts(normalize=False))\n",
    "print('')\n",
    "print(df[attribute].value_counts(normalize=True))\n",
    "\n",
    "plot_joint(df, attribute, x, y, color_palette)"
   ]
  },
  {
   "cell_type": "code",
   "execution_count": null,
   "metadata": {},
   "outputs": [],
   "source": [
    "attribute = 'asses'\n",
    "\n",
    "print(df[attribute].value_counts(normalize=False))\n",
    "print('')\n",
    "print(df[attribute].value_counts(normalize=True))\n",
    "\n",
    "plot_joint(df, attribute, x, y, color_palette)"
   ]
  },
  {
   "cell_type": "code",
   "execution_count": null,
   "metadata": {},
   "outputs": [],
   "source": [
    "attribute = 'race'\n",
    "\n",
    "print(df[attribute].value_counts(normalize=False))\n",
    "print('')\n",
    "print(df[attribute].value_counts(normalize=True))\n",
    "\n",
    "plot_joint(df, attribute, x, y, color_palette)"
   ]
  },
  {
   "cell_type": "code",
   "execution_count": null,
   "metadata": {},
   "outputs": [],
   "source": [
    "attribute = 'density'\n",
    "\n",
    "print(df[attribute].value_counts(normalize=False))\n",
    "print('')\n",
    "print(df[attribute].value_counts(normalize=True))\n",
    "\n",
    "plot_joint(df, attribute, x, y, color_palette)"
   ]
  },
  {
   "cell_type": "code",
   "execution_count": null,
   "metadata": {},
   "outputs": [],
   "source": [
    "attribute = 'is_positive'\n",
    "\n",
    "print(df[attribute].value_counts(normalize=False))\n",
    "print('')\n",
    "print(df[attribute].value_counts(normalize=True))\n",
    "\n",
    "plot_joint(df, attribute, x, y, color_palette)"
   ]
  },
  {
   "cell_type": "code",
   "execution_count": null,
   "metadata": {},
   "outputs": [],
   "source": [
    "attribute = 'class_1'\n",
    "\n",
    "plot_scatter(df, attribute, x, y, 'magma')"
   ]
  },
  {
   "cell_type": "markdown",
   "metadata": {},
   "source": [
    "## Interactive model inspection"
   ]
  },
  {
   "cell_type": "code",
   "execution_count": null,
   "metadata": {},
   "outputs": [],
   "source": [
    "import cv2\n",
    "import matplotlib as mpl\n",
    "import matplotlib.pyplot as plt\n",
    "import plotly.graph_objs as go\n",
    "import plotly.express as px\n",
    "from skimage.io import imread\n",
    "from skimage.util import img_as_ubyte\n",
    "from skimage.transform import resize\n",
    "from matplotlib import cm\n",
    "from ipywidgets import Output, HBox\n",
    "\n",
    "data_dir = '/data2/EMBED/1024x768'"
   ]
  },
  {
   "cell_type": "code",
   "execution_count": null,
   "metadata": {},
   "outputs": [],
   "source": [
    "def rgb_to_hex(rgb):\n",
    "    return '#{:02x}{:02x}{:02x}'.format(rgb[0], rgb[1], rgb[2])\n",
    "\n",
    "color = cm.tab10(np.linspace(0, 1, 10))\n",
    "colorlist = [(np.array(mpl.colors.to_rgb(c))*255).astype(int).tolist() for c in color]*10\n",
    "\n",
    "colors = [rgb_to_hex(colorlist[c]) for c in df.is_positive.values]"
   ]
  },
  {
   "cell_type": "code",
   "execution_count": null,
   "metadata": {},
   "outputs": [],
   "source": [
    "def preprocess(image, horizontal_flip=False):\n",
    "\n",
    "    # breast mask\n",
    "    image_norm = image - np.min(image)\n",
    "    image_norm = image_norm / np.max(image_norm)\n",
    "    thresh = cv2.threshold(img_as_ubyte(image_norm), 5, 255, cv2.THRESH_BINARY)[1]\n",
    "\n",
    "    # Connected components with stats.\n",
    "    nb_components, output, stats, _ = cv2.connectedComponentsWithStats(thresh, connectivity=4)\n",
    "\n",
    "    # Find the largest non background component.\n",
    "    # Note: range() starts from 1 since 0 is the background label.\n",
    "    max_label, _ = max(\n",
    "        [(i, stats[i, cv2.CC_STAT_AREA]) for i in range(1, nb_components)],\n",
    "        key=lambda x: x[1],\n",
    "    )\n",
    "    mask = output == max_label\n",
    "    image_masked = image.copy()\n",
    "    image_masked[mask == 0] = 0\n",
    "\n",
    "    if horizontal_flip:\n",
    "        image_masked = image_masked[:, ::-1].copy()\n",
    "        \n",
    "    return image_masked"
   ]
  },
  {
   "cell_type": "code",
   "execution_count": null,
   "metadata": {},
   "outputs": [],
   "source": [
    "out = Output()\n",
    "@out.capture(clear_output=True)\n",
    "def handle_click(trace, points, state):\n",
    "    sample = df.iloc[points.point_inds[0]]\n",
    "    img_orig = imread(os.path.join(data_dir, sample.image_path))\n",
    "    img_proc = preprocess(img_orig)\n",
    "    \n",
    "    s = [8] * len(df)\n",
    "    for i in points.point_inds:\n",
    "        s[i] = 16\n",
    "    with fig.batch_update():\n",
    "        scatter.marker.size = s\n",
    "\n",
    "    f, (ax1, ax2) = plt.subplots(1,2, figsize=(8,8))\n",
    "    ax1.imshow(img_orig, cmap='gray')\n",
    "    ax1.set_title('original')\n",
    "    ax1.axis('off')\n",
    "    ax2.imshow(img_proc, cmap='gray')\n",
    "    ax2.set_title('processed')\n",
    "    ax2.axis('off')\n",
    "    plt.show(f)\n",
    "    \n",
    "fig = go.FigureWidget(px.scatter(df, x=x, y=y, template='simple_white', hover_data={'ManufacturerModelName': True, x:False, y:False}))\n",
    "fig.update_layout(width=600, height=600)\n",
    "scatter = fig.data[0]\n",
    "scatter.on_click(handle_click)\n",
    "scatter.marker.size = [8] * len(df)\n",
    "scatter.marker.color = colors\n",
    "\n",
    "HBox([fig, out])"
   ]
  },
  {
   "cell_type": "code",
   "execution_count": null,
   "metadata": {},
   "outputs": [],
   "source": []
  }
 ],
 "metadata": {
  "kernelspec": {
   "display_name": "Python 3 (ipykernel)",
   "language": "python",
   "name": "python3"
  },
  "language_info": {
   "codemirror_mode": {
    "name": "ipython",
    "version": 3
   },
   "file_extension": ".py",
   "mimetype": "text/x-python",
   "name": "python",
   "nbconvert_exporter": "python",
   "pygments_lexer": "ipython3",
   "version": "3.10.0"
  }
 },
 "nbformat": 4,
 "nbformat_minor": 4
}
