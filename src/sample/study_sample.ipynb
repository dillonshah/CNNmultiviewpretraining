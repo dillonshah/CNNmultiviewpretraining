{
 "cells": [
  {
   "cell_type": "markdown",
   "metadata": {},
   "source": [
    "#### Note: This file is taken from the biomedia-mira/mammo-net repository"
   ]
  },
  {
   "cell_type": "markdown",
   "metadata": {},
   "source": [
    "### Merge clinical and meta data"
   ]
  },
  {
   "cell_type": "code",
   "execution_count": null,
   "metadata": {},
   "outputs": [],
   "source": [
    "import os\n",
    "import pandas as pd\n",
    "from pathlib import Path\n",
    "\n",
    "df_meta = pd.read_csv('data/EMBED/tables/EMBED_OpenData_metadata_reduced.csv')\n",
    "df_clinical = pd.read_csv('data/EMBED/tables/EMBED_OpenData_clinical_reduced.csv')\n",
    "\n",
    "df_merged = pd.merge(df_meta, df_clinical, on=['empi_anon','acc_anon'])\n",
    "\n",
    "df_merged['image_path'] = df_merged[['empi_anon', 'anon_dicom_path']].apply(lambda x: os.path.join(str(x[0]), f\"{Path(x[1]).stem}.png\"), axis=1)"
   ]
  },
  {
   "cell_type": "markdown",
   "metadata": {},
   "source": [
    "### Split into left/right images, and remove rows where finding and image laterality mismatch"
   ]
  },
  {
   "cell_type": "code",
   "execution_count": null,
   "metadata": {},
   "outputs": [],
   "source": [
    "df_left = df_merged[df_merged.ImageLateralityFinal == 'L'].reset_index()\n",
    "df_right = df_merged[df_merged.ImageLateralityFinal == 'R'].reset_index()\n",
    "df_left.drop(df_left[df_left.side == 'R'].index, inplace=True)\n",
    "df_right.drop(df_right[df_right.side == 'L'].index, inplace=True)\n",
    "df_images = pd.concat([df_left.reset_index(), df_right.reset_index()])\n",
    "df_images = pd.concat([df_left, df_right], ignore_index=True)\n",
    "df_images['is_positive'] = 0"
   ]
  },
  {
   "cell_type": "code",
   "execution_count": null,
   "metadata": {},
   "outputs": [],
   "source": [
    "df_images.drop(df_images[df_images.asses == 'X'].index, inplace=True)\n",
    "df_images.drop(df_images[(df_images.asses == 'A') & (df_images.path_severity.isna())].index, inplace=True)"
   ]
  },
  {
   "cell_type": "code",
   "execution_count": null,
   "metadata": {},
   "outputs": [],
   "source": [
    "images_path_result = (df_images.ImageLateralityFinal == df_images.bside) | (df_images.bside == 'B')"
   ]
  },
  {
   "cell_type": "markdown",
   "metadata": {},
   "source": [
    "## Choose one of the next four cells, comment out the others"
   ]
  },
  {
   "cell_type": "markdown",
   "metadata": {},
   "source": [
    "### Pathology cancer"
   ]
  },
  {
   "cell_type": "code",
   "execution_count": null,
   "metadata": {},
   "outputs": [],
   "source": [
    "# df_images.loc[images_path_result & (df_images.path_severity.isin([0,1])), 'is_positive'] = 1\n",
    "# out_filename = 'data/embed-cancer.csv'"
   ]
  },
  {
   "cell_type": "markdown",
   "metadata": {},
   "source": [
    "### Pathology cancer & lesions"
   ]
  },
  {
   "cell_type": "code",
   "execution_count": null,
   "metadata": {},
   "outputs": [],
   "source": [
    "# df_images.loc[images_path_result & (df_images.path_severity.isin([0,1,2,3])), 'is_positive'] = 1\n",
    "# out_filename = 'data/embed-pathology.csv'"
   ]
  },
  {
   "cell_type": "markdown",
   "metadata": {},
   "source": [
    "### Suspicious"
   ]
  },
  {
   "cell_type": "code",
   "execution_count": null,
   "metadata": {},
   "outputs": [],
   "source": [
    "# df_images.loc[images_path_result & (df_images.path_severity.isin([0,1,2,3])), 'is_positive'] = 1\n",
    "# df_images.loc[df_images.asses.isin(['S','M','K']), 'is_positive'] = 1\n",
    "# out_filename = 'data/embed-suspicious.csv'"
   ]
  },
  {
   "cell_type": "markdown",
   "metadata": {},
   "source": [
    "### Non-negatives"
   ]
  },
  {
   "cell_type": "code",
   "execution_count": null,
   "metadata": {},
   "outputs": [],
   "source": [
    "df_images.loc[images_path_result & (df_images.path_severity.isin([0,1,2,3,4])), 'is_positive'] = 1\n",
    "df_images.loc[df_images.asses.isin(['B','P','S','M','K']), 'is_positive'] = 1\n",
    "out_filename = 'data/embed-non-negative.csv'"
   ]
  },
  {
   "cell_type": "markdown",
   "metadata": {},
   "source": [
    "## Clean up data sample"
   ]
  },
  {
   "cell_type": "markdown",
   "metadata": {},
   "source": [
    "### Remove duplicates with conflicting positive labels"
   ]
  },
  {
   "cell_type": "code",
   "execution_count": null,
   "metadata": {},
   "outputs": [],
   "source": [
    "df_images.sort_values(by=['is_positive'], inplace=True)\n",
    "df_images.drop_duplicates(subset=['image_path'], keep='last', inplace=True)"
   ]
  },
  {
   "cell_type": "code",
   "execution_count": null,
   "metadata": {},
   "outputs": [],
   "source": [
    "df_images.reset_index(inplace=True)"
   ]
  },
  {
   "cell_type": "code",
   "execution_count": null,
   "metadata": {},
   "outputs": [],
   "source": [
    "# Backwards compatibility\n",
    "df_images['image_is_malignant'] = df_images['is_positive']"
   ]
  },
  {
   "cell_type": "markdown",
   "metadata": {},
   "source": [
    "### Fix ViewPosition"
   ]
  },
  {
   "cell_type": "code",
   "execution_count": null,
   "metadata": {},
   "outputs": [],
   "source": [
    "df_images.loc[df_images.ViewPosition.isna(), 'ViewPosition'] = 'None'\n",
    "df_images.loc[df_images.SeriesDescription.isna(), 'SeriesDescription'] = 'None'\n",
    "df_images.loc[df_images.SeriesDescription.str.contains('XCC'), 'ViewPosition'] = 'XCC'\n",
    "# df_images.ViewPosition.value_counts(dropna=False)\n",
    "\n",
    "images_invalid_view_CC = (df_images.ViewPosition == 'None') & (df_images.SeriesDescription.str.contains('CC'))\n",
    "df_images.loc[images_invalid_view_CC, 'ViewPosition'] = 'CC'\n",
    "\n",
    "images_invalid_view_MLO = (df_images.ViewPosition == 'None') & (df_images.SeriesDescription.str.contains('MLO'))\n",
    "df_images.loc[images_invalid_view_MLO, 'ViewPosition'] = 'MLO'"
   ]
  },
  {
   "cell_type": "markdown",
   "metadata": {},
   "source": [
    "### Add density and race"
   ]
  },
  {
   "cell_type": "code",
   "execution_count": null,
   "metadata": {},
   "outputs": [],
   "source": [
    "df_images['density'] = 'X'\n",
    "df_images.loc[df_images['tissueden'] == 1, 'density'] = 'A'\n",
    "df_images.loc[df_images['tissueden'] == 2, 'density'] = 'B'\n",
    "df_images.loc[df_images['tissueden'] == 3, 'density'] = 'C'\n",
    "df_images.loc[df_images['tissueden'] == 4, 'density'] = 'D'"
   ]
  },
  {
   "cell_type": "code",
   "execution_count": null,
   "metadata": {},
   "outputs": [],
   "source": [
    "df_images['race'] = df_images.RACE_DESC.fillna('Other_or_unknown')\n",
    "df_images.loc[df_images.race.str.contains('Black'), 'race'] = 'Black'\n",
    "df_images.loc[df_images.race.str.contains('Asian'), 'race'] = 'Asian'\n",
    "df_images.loc[df_images.race.str.contains('White'), 'race'] = 'White'\n",
    "df_images.loc[~df_images.race.isin(['Black', 'White', 'Asian']), 'race'] = 'Other/Unknown'"
   ]
  },
  {
   "cell_type": "code",
   "execution_count": null,
   "metadata": {},
   "outputs": [],
   "source": [
    "print('Patients: ', len(df_images.empi_anon.unique()))\n",
    "print('Findings: ', len(df_images))\n",
    "print('Images:   ', len(df_images.anon_dicom_path.unique()))\n",
    "print(df_images['is_positive'].value_counts())\n",
    "print(df_images['is_positive'].value_counts(normalize=True))"
   ]
  },
  {
   "cell_type": "code",
   "execution_count": null,
   "metadata": {},
   "outputs": [],
   "source": [
    "df_images.to_csv(out_filename)"
   ]
  },
  {
   "cell_type": "markdown",
   "metadata": {},
   "source": [
    "### Check effect of filtering steps that are applied in the datamodule of the classification code"
   ]
  },
  {
   "cell_type": "code",
   "execution_count": null,
   "metadata": {},
   "outputs": [],
   "source": [
    "df_filtered = df_images.copy()"
   ]
  },
  {
   "cell_type": "code",
   "execution_count": null,
   "metadata": {},
   "outputs": [],
   "source": [
    "df_filtered = df_filtered[df_filtered['FinalImageType'] == '2D']\n",
    "df_filtered = df_filtered[df_filtered['GENDER_DESC'] == 'Female']\n",
    "df_filtered = df_filtered[df_filtered['tissueden'].notna()]\n",
    "df_filtered = df_filtered[df_filtered['tissueden'] < 5]\n",
    "df_filtered = df_filtered[df_filtered['ViewPosition'].isin(['MLO','CC'])]\n",
    "df_filtered = df_filtered[df_filtered['spot_mag'].isna()]\n",
    "\n",
    "print('Patients: ', len(df_filtered.empi_anon.unique()))\n",
    "print('Findings: ', len(df_filtered))\n",
    "print('Images:   ', len(df_filtered.anon_dicom_path.unique()))\n",
    "print(df_filtered['is_positive'].value_counts())\n",
    "print(df_filtered['is_positive'].value_counts(normalize=True))"
   ]
  },
  {
   "cell_type": "markdown",
   "metadata": {},
   "source": [
    "**Possible finding**\n",
    "\n",
    "BIRADS 0: A – Additional evaluation\n",
    "\n",
    "BIRADS 1: N – Negative\n",
    "\n",
    "BIRADS 2: B - Benign\n",
    "\n",
    "BIRADS 3: P – Probably benign\n",
    "\n",
    "BIRADS 4: S – Suspicious\n",
    "\n",
    "BIRADS 5: M- Highly suggestive of malignancy\n",
    "\n",
    "BIRADS 6: K - Known biopsy proven \n",
    "\n",
    "**Possible pathology results**\n",
    "\n",
    "0: invasive cancer\n",
    "\n",
    "1: non-invasive cancer\n",
    "\n",
    "2: high-risk lesion\n",
    "\n",
    "3: borderline lesion\n",
    "\n",
    "4: benign findings\n",
    "\n",
    "5: negative (normal breast tissue)\n",
    "\n",
    "6: non-breast cancer"
   ]
  },
  {
   "cell_type": "markdown",
   "metadata": {},
   "source": []
  }
 ],
 "metadata": {
  "kernelspec": {
   "display_name": "Python 3 (ipykernel)",
   "language": "python",
   "name": "python3"
  },
  "language_info": {
   "codemirror_mode": {
    "name": "ipython",
    "version": 3
   },
   "file_extension": ".py",
   "mimetype": "text/x-python",
   "name": "python",
   "nbconvert_exporter": "python",
   "pygments_lexer": "ipython3",
   "version": "3.10.12"
  }
 },
 "nbformat": 4,
 "nbformat_minor": 4
}
